{
 "cells": [
  {
   "cell_type": "code",
   "execution_count": 14,
   "id": "58030e9e-8c35-4d7e-9170-1c335d6814cf",
   "metadata": {},
   "outputs": [],
   "source": [
    "import torch\n",
    "import torch.nn as nn\n",
    "import torch.optim as optim\n",
    "from torchvision import datasets, transforms\n",
    "from torch.utils.data import DataLoader\n",
    "import matplotlib.pyplot as plt"
   ]
  },
  {
   "cell_type": "code",
   "execution_count": 15,
   "id": "e496cdbb-f959-4168-a70c-98688ffc5ca5",
   "metadata": {},
   "outputs": [],
   "source": [
    "# Define the VAE model\n",
    "class VAE(nn.Module):\n",
    "    def __init__(self, latent_dim=2):\n",
    "        super(VAE, self).__init__()\n",
    "        self.latent_dim = latent_dim\n",
    "\n",
    "        # Encoder\n",
    "        self.encoder = nn.Sequential(\n",
    "            nn.Flatten(),\n",
    "            nn.Linear(28 * 28, 400),\n",
    "            nn.ReLU(),\n",
    "            nn.Linear(400, 128),\n",
    "            nn.ReLU(),\n",
    "        )\n",
    "        self.mu_layer = nn.Linear(128, latent_dim)   # Mean of latent distribution\n",
    "        self.logvar_layer = nn.Linear(128, latent_dim)  # Log-variance of latent distribution\n",
    "\n",
    "        # Decoder\n",
    "        self.decoder = nn.Sequential(\n",
    "            nn.Linear(latent_dim, 128),\n",
    "            nn.ReLU(),\n",
    "            nn.Linear(128, 400),\n",
    "            nn.ReLU(),\n",
    "            nn.Linear(400, 28 * 28),\n",
    "            nn.Sigmoid(),  # Output pixel values in [0, 1]\n",
    "        )\n",
    "\n",
    "    def encode(self, x):\n",
    "        encoded = self.encoder(x)\n",
    "        mu = self.mu_layer(encoded)\n",
    "        logvar = self.logvar_layer(encoded)\n",
    "        return mu, logvar\n",
    "\n",
    "    def reparameterize(self, mu, logvar):\n",
    "        std = torch.exp(0.5 * logvar)\n",
    "        eps = torch.randn_like(std)\n",
    "        return mu + eps * std # [] [] -> []\n",
    "\n",
    "    def decode(self, z):\n",
    "        return self.decoder(z).view(-1, 1, 28, 28)\n",
    "\n",
    "    def forward(self, x):\n",
    "        # use attention heads here to calculate attention values of mu and logvar\n",
    "        mu, logvar = self.encode(x)\n",
    "        z = self.reparameterize(mu, logvar)\n",
    "        recon = self.decode(z)\n",
    "        return recon, mu, logvar"
   ]
  },
  {
   "cell_type": "code",
   "execution_count": null,
   "id": "a701b9be-64bf-4e63-9f54-fd9dd0bea7fc",
   "metadata": {},
   "outputs": [],
   "source": []
  },
  {
   "cell_type": "code",
   "execution_count": 16,
   "id": "e4e92656-6923-4cc2-9335-22d5bb669cf0",
   "metadata": {},
   "outputs": [],
   "source": [
    "# Loss function (Reconstruction loss + KL divergence)\n",
    "def vae_loss(recon, x, mu, logvar):\n",
    "    recon_loss = nn.functional.binary_cross_entropy(recon, x, reduction=\"sum\") # reconstruction loss\n",
    "    kl_divergence = -0.5 * torch.sum(1 + logvar - mu.pow(2) - logvar.exp()) # measures the difference between two distributions\n",
    "    return recon_loss + kl_divergence"
   ]
  },
  {
   "cell_type": "code",
   "execution_count": 17,
   "id": "b2d00eea-344b-4ce9-a163-c05610d8f7df",
   "metadata": {},
   "outputs": [],
   "source": [
    "# Load MNIST dataset\n",
    "transform = transforms.Compose([transforms.ToTensor()])\n",
    "train_data = datasets.MNIST(root=\"./data\", train=True, download=True, transform=transform)\n",
    "train_loader = DataLoader(train_data, batch_size=64, shuffle=True)"
   ]
  },
  {
   "cell_type": "code",
   "execution_count": 18,
   "id": "5a7ba215-1a0b-4cab-a1a4-e53750a879b1",
   "metadata": {},
   "outputs": [
    {
     "data": {
      "text/plain": [
       "VAE(\n",
       "  (encoder): Sequential(\n",
       "    (0): Flatten(start_dim=1, end_dim=-1)\n",
       "    (1): Linear(in_features=784, out_features=400, bias=True)\n",
       "    (2): ReLU()\n",
       "    (3): Linear(in_features=400, out_features=128, bias=True)\n",
       "    (4): ReLU()\n",
       "  )\n",
       "  (mu_layer): Linear(in_features=128, out_features=2, bias=True)\n",
       "  (logvar_layer): Linear(in_features=128, out_features=2, bias=True)\n",
       "  (decoder): Sequential(\n",
       "    (0): Linear(in_features=2, out_features=128, bias=True)\n",
       "    (1): ReLU()\n",
       "    (2): Linear(in_features=128, out_features=400, bias=True)\n",
       "    (3): ReLU()\n",
       "    (4): Linear(in_features=400, out_features=784, bias=True)\n",
       "    (5): Sigmoid()\n",
       "  )\n",
       ")"
      ]
     },
     "execution_count": 18,
     "metadata": {},
     "output_type": "execute_result"
    }
   ],
   "source": [
    "# Initialize model, optimizer, and device\n",
    "latent_dim = 2  # Latent space dimension\n",
    "vae = VAE(latent_dim=latent_dim)\n",
    "optimizer = optim.Adam(vae.parameters(), lr=0.001)\n",
    "device = torch.device(\"cuda\" if torch.cuda.is_available() else \"cpu\")\n",
    "vae.to(device)"
   ]
  },
  {
   "cell_type": "code",
   "execution_count": 19,
   "id": "a5a54fec-b263-4a02-bffe-e878b6ffb14a",
   "metadata": {},
   "outputs": [
    {
     "data": {
      "text/plain": [
       "VAE(\n",
       "  (encoder): Sequential(\n",
       "    (0): Flatten(start_dim=1, end_dim=-1)\n",
       "    (1): Linear(in_features=784, out_features=400, bias=True)\n",
       "    (2): ReLU()\n",
       "    (3): Linear(in_features=400, out_features=128, bias=True)\n",
       "    (4): ReLU()\n",
       "  )\n",
       "  (mu_layer): Linear(in_features=128, out_features=2, bias=True)\n",
       "  (logvar_layer): Linear(in_features=128, out_features=2, bias=True)\n",
       "  (decoder): Sequential(\n",
       "    (0): Linear(in_features=2, out_features=128, bias=True)\n",
       "    (1): ReLU()\n",
       "    (2): Linear(in_features=128, out_features=400, bias=True)\n",
       "    (3): ReLU()\n",
       "    (4): Linear(in_features=400, out_features=784, bias=True)\n",
       "    (5): Sigmoid()\n",
       "  )\n",
       ")"
      ]
     },
     "execution_count": 19,
     "metadata": {},
     "output_type": "execute_result"
    }
   ],
   "source": [
    "# Training loop\n",
    "epochs = 10\n",
    "vae.train()"
   ]
  },
  {
   "cell_type": "code",
   "execution_count": 20,
   "id": "2135e560-23b8-4018-802f-d3fbaa0c43a7",
   "metadata": {},
   "outputs": [],
   "source": [
    "import torch.nn.functional as F"
   ]
  },
  {
   "cell_type": "code",
   "execution_count": 21,
   "id": "73eb55c2-7f4b-4f09-8332-1ab727b7dfcc",
   "metadata": {},
   "outputs": [
    {
     "name": "stdout",
     "output_type": "stream",
     "text": [
      "Epoch 1, Loss: 176.9170\n",
      "Epoch 2, Loss: 157.4127\n",
      "Epoch 3, Loss: 152.6091\n",
      "Epoch 4, Loss: 149.5004\n",
      "Epoch 5, Loss: 147.4657\n",
      "Epoch 6, Loss: 146.1339\n",
      "Epoch 7, Loss: 144.9182\n",
      "Epoch 8, Loss: 144.1239\n",
      "Epoch 9, Loss: 143.4691\n",
      "Epoch 10, Loss: 142.8246\n"
     ]
    }
   ],
   "source": [
    "for epoch in range(epochs):\n",
    "    train_loss = 0\n",
    "    for batch_idx, (data, _) in enumerate(train_loader):\n",
    "        data = data.to(device)\n",
    "        optimizer.zero_grad()\n",
    "        recon, mu, logvar = vae(data)\n",
    "        loss = vae_loss(recon, data, mu, logvar)\n",
    "        loss.backward()\n",
    "        optimizer.step()\n",
    "        train_loss += loss.item()\n",
    "    print(f\"Epoch {epoch + 1}, Loss: {train_loss / len(train_loader.dataset):.4f}\")"
   ]
  },
  {
   "cell_type": "code",
   "execution_count": 11,
   "id": "e165c08e-ecbc-4d26-aede-701f6b1d1f82",
   "metadata": {},
   "outputs": [
    {
     "name": "stdout",
     "output_type": "stream",
     "text": [
      "Epoch 1, Loss: 177.0988\n",
      "Epoch 2, Loss: 156.2863\n",
      "Epoch 3, Loss: 152.2958\n",
      "Epoch 4, Loss: 149.9101\n",
      "Epoch 5, Loss: 148.3441\n",
      "Epoch 6, Loss: 147.5111\n",
      "Epoch 7, Loss: 146.2959\n",
      "Epoch 8, Loss: 145.4095\n",
      "Epoch 9, Loss: 145.0243\n",
      "Epoch 10, Loss: 144.2702\n"
     ]
    }
   ],
   "source": [
    "# attention vae loss\n",
    "for epoch in range(epochs):\n",
    "    train_loss = 0\n",
    "    for batch_idx, (data, _) in enumerate(train_loader):\n",
    "        data = data.to(device)\n",
    "        optimizer.zero_grad()\n",
    "        recon, mu, logvar = vae(data)\n",
    "        loss = vae_loss(recon, data, mu, logvar)\n",
    "        loss.backward()\n",
    "        optimizer.step()\n",
    "        train_loss += loss.item()\n",
    "    print(f\"Epoch {epoch + 1}, Loss: {train_loss / len(train_loader.dataset):.4f}\")"
   ]
  },
  {
   "cell_type": "code",
   "execution_count": 22,
   "id": "0ab9cec2-7be2-443d-b1b5-8b235bed8c61",
   "metadata": {},
   "outputs": [],
   "source": [
    "# Generate samples from the latent space\n",
    "vae.eval()\n",
    "with torch.no_grad():\n",
    "    z = torch.randn(16, latent_dim).to(device)  # Sample from standard Gaussian\n",
    "    generated_images = vae.decode(z).cpu()"
   ]
  },
  {
   "cell_type": "code",
   "execution_count": 13,
   "id": "a11029b3-2770-4701-8fcb-fb78cf27a136",
   "metadata": {},
   "outputs": [
    {
     "data": {
      "image/png": "[encoded data removed]",
      "text/plain": [
       "<Figure size 600x600 with 16 Axes>"
      ]
     },
     "metadata": {},
     "output_type": "display_data"
    }
   ],
   "source": [
    "# attention vae results\n",
    "# Plot generated samples\n",
    "fig, axes = plt.subplots(4, 4, figsize=(6, 6))\n",
    "for i, ax in enumerate(axes.flatten()):\n",
    "    ax.imshow(generated_images[i].squeeze(), cmap=\"gray\")\n",
    "    ax.axis(\"off\")\n",
    "plt.tight_layout()\n",
    "plt.show()"
   ]
  },
  {
   "cell_type": "code",
   "execution_count": 23,
   "id": "1f9ead08-cdf9-4a9b-abfd-4e5c277a3957",
   "metadata": {},
   "outputs": [
    {
     "data": {
      "image/png": "[encoded data removed]",
      "text/plain": [
       "<Figure size 600x600 with 16 Axes>"
      ]
     },
     "metadata": {},
     "output_type": "display_data"
    }
   ],
   "source": [
    "# old results\n",
    "# Plot generated samples\n",
    "fig, axes = plt.subplots(4, 4, figsize=(6, 6))\n",
    "for i, ax in enumerate(axes.flatten()):\n",
    "    ax.imshow(generated_images[i].squeeze(), cmap=\"gray\")\n",
    "    ax.axis(\"off\")\n",
    "plt.tight_layout()\n",
    "plt.show()\n"
   ]
  },
  {
   "cell_type": "code",
   "execution_count": 5,
   "id": "423dad01-a2c3-4400-b19b-ce9adf315b22",
   "metadata": {},
   "outputs": [],
   "source": [
    "class VAE(nn.Module):\n",
    "    def __init__(self, latent_dim=2, attention_heads=4):\n",
    "        super(VAE, self).__init__()\n",
    "        self.latent_dim = latent_dim\n",
    "        self.attention_heads = attention_heads\n",
    "\n",
    "        # Encoder\n",
    "        self.encoder = nn.Sequential(\n",
    "            nn.Flatten(),\n",
    "            nn.Linear(28*28, 400),\n",
    "            nn.ReLU(),\n",
    "            nn.Linear(400, 128),\n",
    "            nn.ReLU(),\n",
    "        )\n",
    "        \n",
    "        # Attention layer\n",
    "        self.attention = nn.MultiheadAttention(\n",
    "            embed_dim=128, \n",
    "            num_heads=attention_heads,\n",
    "        )\n",
    "\n",
    "        # Latent variable layers\n",
    "        self.mu_layer = nn.Linear(128, latent_dim)\n",
    "        self.logvar_layer = nn.Linear(128, latent_dim)\n",
    "\n",
    "        # Decoder\n",
    "        self.decoder = nn.Sequential(\n",
    "            nn.Linear(latent_dim, 128),\n",
    "            nn.ReLU(),\n",
    "            nn.Linear(128, 400),\n",
    "            nn.ReLU(),\n",
    "            nn.Linear(400, 28*28),\n",
    "            nn.Sigmoid(),\n",
    "        )\n",
    "\n",
    "    def encode(self, x):\n",
    "        encoded = self.encoder(x)  # (batch_size, 128)\n",
    "        # Add sequence dimension for attention: (1, batch_size, 128)\n",
    "        encoded = encoded.unsqueeze(0)\n",
    "        # Self-attention\n",
    "        attn_output, _ = self.attention(encoded, encoded, encoded)\n",
    "        # Remove sequence dimension: (batch_size, 128)\n",
    "        attn_output = attn_output.squeeze(0)\n",
    "        mu = self.mu_layer(attn_output)\n",
    "        logvar = self.logvar_layer(attn_output)\n",
    "        return mu, logvar\n",
    "\n",
    "    def reparameterize(self, mu, logvar):\n",
    "        std = torch.exp(0.5*logvar)\n",
    "        eps = torch.randn_like(std)\n",
    "        return mu + eps*std\n",
    "\n",
    "    def decode(self, z):\n",
    "        return self.decoder(z).view(-1, 1, 28, 28)\n",
    "\n",
    "    def forward(self, x):\n",
    "        mu, logvar = self.encode(x)\n",
    "        z = self.reparameterize(mu, logvar)\n",
    "        recon = self.decode(z)\n",
    "        return recon, mu, logvar"
   ]
  },
  {
   "cell_type": "code",
   "execution_count": 6,
   "id": "85e1dab5-1c4c-493c-920b-ef9bb0dfdc9f",
   "metadata": {},
   "outputs": [],
   "source": [
    "# Loss function (optionally with beta parameter for KL weighting)\n",
    "def vae_loss(recon, x, mu, logvar, beta=1.0):\n",
    "    recon_loss = F.binary_cross_entropy(recon, x, reduction='sum')\n",
    "    kl_divergence = -0.5 * torch.sum(1 + logvar - mu.pow(2) - logvar.exp())\n",
    "    return recon_loss + beta * kl_divergence"
   ]
  },
  {
   "cell_type": "code",
   "execution_count": null,
   "id": "98f1fc1b-c45a-4c9a-a2b6-f9384521fbf2",
   "metadata": {},
   "outputs": [],
   "source": []
  },
  {
   "cell_type": "code",
   "execution_count": null,
   "id": "f025178f-634e-4e40-8f5a-5e5f649b32ce",
   "metadata": {},
   "outputs": [],
   "source": []
  },
  {
   "cell_type": "code",
   "execution_count": null,
   "id": "acf8b9dc-bdf3-4dfb-9683-dd25f07d0b06",
   "metadata": {},
   "outputs": [],
   "source": []
  },
  {
   "cell_type": "code",
   "execution_count": null,
   "id": "8dd33d6f-4245-461e-9a5c-0e25193ea9a3",
   "metadata": {},
   "outputs": [],
   "source": []
  },
  {
   "cell_type": "code",
   "execution_count": null,
   "id": "33ecfef9-13c9-49c7-ae4b-8870862a4813",
   "metadata": {},
   "outputs": [],
   "source": []
  }
 ],
 "metadata": {
  "kernelspec": {
   "display_name": "Python 3 (ipykernel)",
   "language": "python",
   "name": "python3"
  },
  "language_info": {
   "codemirror_mode": {
    "name": "ipython",
    "version": 3
   },
   "file_extension": ".py",
   "mimetype": "text/x-python",
   "name": "python",
   "nbconvert_exporter": "python",
   "pygments_lexer": "ipython3",
   "version": "3.10.12"
  }
 },
 "nbformat": 4,
 "nbformat_minor": 5
}
